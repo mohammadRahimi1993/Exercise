{
  "nbformat": 4,
  "nbformat_minor": 0,
  "metadata": {
    "colab": {
      "provenance": [],
      "authorship_tag": "ABX9TyMpqJVeXrCoQ44RY5frPv5M",
      "include_colab_link": true
    },
    "kernelspec": {
      "name": "python3",
      "display_name": "Python 3"
    },
    "language_info": {
      "name": "python"
    }
  },
  "cells": [
    {
      "cell_type": "markdown",
      "metadata": {
        "id": "view-in-github",
        "colab_type": "text"
      },
      "source": [
        "<a href=\"https://colab.research.google.com/github/mohammadRahimi1993/Exercise/blob/main/LinkPrediction_TransE.ipynb\" target=\"_parent\"><img src=\"https://colab.research.google.com/assets/colab-badge.svg\" alt=\"Open In Colab\"/></a>"
      ]
    },
    {
      "cell_type": "markdown",
      "source": [
        "# **LinkPrediction_TransE**"
      ],
      "metadata": {
        "id": "OmImuXrAwUot"
      }
    },
    {
      "cell_type": "code",
      "execution_count": null,
      "metadata": {
        "id": "jjDkfiOhvueV"
      },
      "outputs": [],
      "source": [
        "!pip install numpy\n",
        "!pip install torch\n",
        "!pip install scikit-learn"
      ]
    },
    {
      "cell_type": "markdown",
      "source": [
        "**Import Library**"
      ],
      "metadata": {
        "id": "DKH7kYkoe_25"
      }
    },
    {
      "cell_type": "code",
      "source": [
        "import numpy as np\n",
        "import torch\n",
        "from torch import nn\n",
        "import torch.optim as optim\n",
        "from sklearn.metrics import accuracy_score"
      ],
      "metadata": {
        "id": "Bho7PTxHwf7H"
      },
      "execution_count": 15,
      "outputs": []
    },
    {
      "cell_type": "markdown",
      "source": [
        "**TransE**"
      ],
      "metadata": {
        "id": "R7iPKf3pfWwQ"
      }
    },
    {
      "cell_type": "code",
      "source": [
        "# تعریف مدل TransE\n",
        "class TransE(nn.Module):\n",
        "    def __init__(self, num_entities, num_relations, embedding_dim):\n",
        "        super(TransE, self).__init__()\n",
        "        self.entity_embeddings = nn.Embedding(num_entities, embedding_dim)\n",
        "        self.relation_embeddings = nn.Embedding(num_relations, embedding_dim)\n",
        "        self.embedding_dim = embedding_dim\n",
        "\n",
        "        # مقداردهی اولیه تصادفی برای تعبیه‌ها\n",
        "        nn.init.uniform_(self.entity_embeddings.weight, -6/np.sqrt(embedding_dim), 6/np.sqrt(embedding_dim))\n",
        "        nn.init.uniform_(self.relation_embeddings.weight, -6/np.sqrt(embedding_dim), 6/np.sqrt(embedding_dim))\n",
        "\n",
        "    def forward(self, head, relation, tail, mode='train'):\n",
        "        head_emb = self.entity_embeddings(head)\n",
        "        relation_emb = self.relation_embeddings(relation)\n",
        "        tail_emb = self.entity_embeddings(tail)\n",
        "\n",
        "        if mode == 'train':\n",
        "            return head_emb + relation_emb - tail_emb\n",
        "        else:\n",
        "            return torch.norm(head_emb + relation_emb - tail_emb, p=2, dim=1)"
      ],
      "metadata": {
        "id": "mHzO7mUMfOYc"
      },
      "execution_count": 16,
      "outputs": []
    },
    {
      "cell_type": "markdown",
      "source": [
        "**loss_function + get_data**"
      ],
      "metadata": {
        "id": "njExzmaIftcd"
      }
    },
    {
      "cell_type": "code",
      "source": [
        "# تعریف تابع تلف زیان\n",
        "def loss_function(pos_score, neg_score, margin=1.0):\n",
        "    return torch.sum(torch.relu(pos_score - neg_score + margin))\n",
        "\n",
        "# آماده‌سازی داده‌ها\n",
        "def get_data():\n",
        "    # تعداد موجودیت‌ها و روابط\n",
        "    num_entities = 6\n",
        "    num_relations = 2\n",
        "\n",
        "    # داده‌های آموزشی (سه‌تایی‌ها)\n",
        "    triples = [\n",
        "        (0, 0, 1),\n",
        "        (0, 1, 2),\n",
        "        (1, 0, 3),\n",
        "        (2, 1, 3),\n",
        "        (4, 0, 5)\n",
        "    ]\n",
        "\n",
        "    return triples, num_entities, num_relations"
      ],
      "metadata": {
        "id": "d7ggC2DUffx2"
      },
      "execution_count": 17,
      "outputs": []
    },
    {
      "cell_type": "markdown",
      "source": [
        "**Train_model**"
      ],
      "metadata": {
        "id": "jbGroMFPgJUr"
      }
    },
    {
      "cell_type": "code",
      "source": [
        "# تابع آموزش مدل\n",
        "def train_model(model, triples, num_epochs=100, learning_rate=0.01):\n",
        "    optimizer = optim.Adam(model.parameters(), lr=learning_rate)\n",
        "\n",
        "    for epoch in range(num_epochs):\n",
        "        epoch_loss = 0\n",
        "        for head, relation, tail in triples:\n",
        "            head = torch.LongTensor([head])\n",
        "            relation = torch.LongTensor([relation])\n",
        "            tail = torch.LongTensor([tail])\n",
        "\n",
        "            # پیش‌بینی برای سه‌تایی‌های مثبت و منفی\n",
        "            pos_score = model(head, relation, tail)\n",
        "            neg_tail = torch.randint(0, model.entity_embeddings.num_embeddings, tail.size())\n",
        "            neg_score = model(head, relation, neg_tail)\n",
        "\n",
        "            # محاسبه زیان و به‌روزرسانی وزن‌ها\n",
        "            loss = loss_function(pos_score, neg_score)\n",
        "            optimizer.zero_grad()\n",
        "            loss.backward()\n",
        "            optimizer.step()\n",
        "\n",
        "            epoch_loss += loss.item()\n",
        "\n",
        "        if (epoch + 1) % 10 == 0:\n",
        "            print(f'Epoch {epoch+1}/{num_epochs}, Loss: {epoch_loss:.4f}')"
      ],
      "metadata": {
        "id": "rFcgBDD_a4Cx"
      },
      "execution_count": 18,
      "outputs": []
    },
    {
      "cell_type": "markdown",
      "source": [
        "**Evalute_Model**"
      ],
      "metadata": {
        "id": "N8FuW-tngQ71"
      }
    },
    {
      "cell_type": "code",
      "source": [
        "# تابع ارزیابی مدل\n",
        "def evaluate_model(model, triples):\n",
        "    model.eval()\n",
        "    with torch.no_grad():\n",
        "        y_true = []\n",
        "        y_pred = []\n",
        "\n",
        "        for head, relation, tail in triples:\n",
        "            head = torch.LongTensor([head])\n",
        "            relation = torch.LongTensor([relation])\n",
        "            tail = torch.LongTensor([tail])\n",
        "\n",
        "            pos_score = model(head, relation, tail, mode='eval').item()\n",
        "            neg_tail = torch.randint(0, model.entity_embeddings.num_embeddings, tail.size())\n",
        "            neg_score = model(head, relation, neg_tail, mode='eval').item()\n",
        "\n",
        "            y_true.append(1)\n",
        "            y_pred.append(1 if pos_score < neg_score else 0)\n",
        "\n",
        "        accuracy = accuracy_score(y_true, y_pred)\n",
        "        print(f'Accuracy: {accuracy:.4f}')"
      ],
      "metadata": {
        "id": "x_-sKp04awbG"
      },
      "execution_count": 19,
      "outputs": []
    },
    {
      "cell_type": "markdown",
      "source": [
        "**Run script**"
      ],
      "metadata": {
        "id": "AHl9QpOggYJ4"
      }
    },
    {
      "cell_type": "code",
      "source": [
        "# اجرای اسکریپت\n",
        "triples, num_entities, num_relations = get_data()\n",
        "model = TransE(num_entities, num_relations, embedding_dim=50)\n",
        "train_model(model, triples)\n",
        "evaluate_model(model, triples)"
      ],
      "metadata": {
        "colab": {
          "base_uri": "https://localhost:8080/"
        },
        "id": "MpawxGuKar7J",
        "outputId": "170aa36f-3262-4404-dfc9-a1f5ead75ed2"
      },
      "execution_count": 20,
      "outputs": [
        {
          "output_type": "stream",
          "name": "stdout",
          "text": [
            "Epoch 10/100, Loss: 232.1065\n",
            "Epoch 20/100, Loss: 225.6455\n",
            "Epoch 30/100, Loss: 136.0719\n",
            "Epoch 40/100, Loss: 234.0056\n",
            "Epoch 50/100, Loss: 237.5323\n",
            "Epoch 60/100, Loss: 133.7335\n",
            "Epoch 70/100, Loss: 209.4912\n",
            "Epoch 80/100, Loss: 75.7606\n",
            "Epoch 90/100, Loss: 163.3373\n",
            "Epoch 100/100, Loss: 109.8516\n",
            "Accuracy: 0.2000\n"
          ]
        }
      ]
    }
  ]
}