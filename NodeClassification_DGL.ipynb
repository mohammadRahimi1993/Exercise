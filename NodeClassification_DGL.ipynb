{
  "nbformat": 4,
  "nbformat_minor": 0,
  "metadata": {
    "colab": {
      "provenance": [],
      "authorship_tag": "ABX9TyMLY0eENYCH/R/7R1e9vW4h",
      "include_colab_link": true
    },
    "kernelspec": {
      "name": "python3",
      "display_name": "Python 3"
    },
    "language_info": {
      "name": "python"
    }
  },
  "cells": [
    {
      "cell_type": "markdown",
      "metadata": {
        "id": "view-in-github",
        "colab_type": "text"
      },
      "source": [
        "<a href=\"https://colab.research.google.com/github/mohammadRahimi1993/Exercise/blob/main/NodeClassification_DGL.ipynb\" target=\"_parent\"><img src=\"https://colab.research.google.com/assets/colab-badge.svg\" alt=\"Open In Colab\"/></a>"
      ]
    },
    {
      "cell_type": "markdown",
      "source": [
        "# **Node Classification with DGL**"
      ],
      "metadata": {
        "id": "jqNouURclp55"
      }
    },
    {
      "cell_type": "markdown",
      "source": [
        "1- **Install DGL And Torch**"
      ],
      "metadata": {
        "id": "e5r8dbcJmn3J"
      }
    },
    {
      "cell_type": "code",
      "execution_count": 1,
      "metadata": {
        "id": "9b_Db7NPjVHT"
      },
      "outputs": [],
      "source": [
        "# https://colab.research.google.com/github/dmlc/dgl/blob/master/notebooks/sparse/quickstart.ipynb#scrollTo=19UZd7wyWzpT\n",
        "!pip install torch==2.0.0+cpu torchvision==0.15.1+cpu torchaudio==2.0.1 --index-url https://download.pytorch.org/whl/cpu > /dev/null\n",
        "!pip install dgl==1.1.0 -f https://data.dgl.ai/wheels/repo.html > /dev/null"
      ]
    },
    {
      "cell_type": "markdown",
      "source": [
        "2- **Check dgl and torch**"
      ],
      "metadata": {
        "id": "UDRxJpI8m16t"
      }
    },
    {
      "cell_type": "code",
      "source": [
        "import os\n",
        "import torch\n",
        "\n",
        "os.environ[\"TORCH\"] = torch.__version__\n",
        "os.environ[\"DGLBACKEND\"] = \"pytorch\"\n",
        "\n",
        "try:\n",
        "  import dgl.sparse as dglsp\n",
        "  installed = True\n",
        "except ImportError:\n",
        "  installed = False\n",
        "\n",
        "print(\"installed\" if installed else \"not installed!\")"
      ],
      "metadata": {
        "colab": {
          "base_uri": "https://localhost:8080/"
        },
        "id": "G-CX6KNKkDso",
        "outputId": "b2648edf-bb81-42dd-f1f0-0b56bf25dbbe"
      },
      "execution_count": 2,
      "outputs": [
        {
          "output_type": "stream",
          "name": "stdout",
          "text": [
            "installed\n"
          ]
        }
      ]
    },
    {
      "cell_type": "markdown",
      "source": [
        "3- **Import library**"
      ],
      "metadata": {
        "id": "boDbEYT9nIkj"
      }
    },
    {
      "cell_type": "code",
      "source": [
        "import torch\n",
        "import dgl\n",
        "import dgl.data\n",
        "import torch\n",
        "import torch.nn as nn\n",
        "import torch.nn.functional as F"
      ],
      "metadata": {
        "id": "ZebvDUMCkIIZ"
      },
      "execution_count": 3,
      "outputs": []
    },
    {
      "cell_type": "markdown",
      "source": [
        "4- **Download CoraGraphDataset**"
      ],
      "metadata": {
        "id": "8o_isLlPnPOF"
      }
    },
    {
      "cell_type": "code",
      "source": [
        "dataset = dgl.data.CoraGraphDataset()\n",
        "print(f\"Number of Categories: {dataset.num_classes}\")\n",
        "print(f\"Number of Labels: {dataset.num_labels}\")"
      ],
      "metadata": {
        "colab": {
          "base_uri": "https://localhost:8080/"
        },
        "id": "TEUOnRYWkOzt",
        "outputId": "d7159e2b-5612-40ac-e2a5-94cf2a5c0c72"
      },
      "execution_count": 4,
      "outputs": [
        {
          "output_type": "stream",
          "name": "stdout",
          "text": [
            "Downloading /root/.dgl/cora_v2.zip from https://data.dgl.ai/dataset/cora_v2.zip...\n",
            "Extracting file to /root/.dgl/cora_v2_d697a464\n",
            "Finished data loading and preprocessing.\n",
            "  NumNodes: 2708\n",
            "  NumEdges: 10556\n",
            "  NumFeats: 1433\n",
            "  NumClasses: 7\n",
            "  NumTrainingSamples: 140\n",
            "  NumValidationSamples: 500\n",
            "  NumTestSamples: 1000\n",
            "Done saving data into cached files.\n",
            "Number of Categories: 7\n",
            "Number of Labels: 7\n"
          ]
        },
        {
          "output_type": "stream",
          "name": "stderr",
          "text": [
            "/usr/local/lib/python3.10/dist-packages/dgl/data/utils.py:354: UserWarning: Property dataset.num_labels will be deprecated, please use dataset.num_classes instead.\n",
            "  warnings.warn(\n"
          ]
        }
      ]
    },
    {
      "cell_type": "markdown",
      "source": [
        "6- **Defining a Graph Convolutional Network (GCN)**"
      ],
      "metadata": {
        "id": "bvpJZhignYkA"
      }
    },
    {
      "cell_type": "code",
      "source": [
        "from dgl.nn import GraphConv\n",
        "\n",
        "class GCN(nn.Module):\n",
        "  def __init__(self , in_feats, h_feats, num_classes ):\n",
        "    super(GCN, self).__init__()\n",
        "    self.conv1 = GraphConv(in_feats, h_feats)\n",
        "    self.conv2 = GraphConv(h_feats, num_classes)\n",
        "\n",
        "  def forward(self, g, in_feat):\n",
        "    h = self.conv1(g, in_feat)\n",
        "    h = F.relu(h)\n",
        "    h = self.conv2(g, h)\n",
        "    return h\n",
        "\n",
        "model = GCN(g.ndata[\"feat\"].shape[1], 16, dataset.num_classes)"
      ],
      "metadata": {
        "id": "7OGEqdZskY9l"
      },
      "execution_count": 6,
      "outputs": []
    },
    {
      "cell_type": "code",
      "source": [
        "g = dataset[0]\n",
        "\n",
        "print(\"Edge feature\")\n",
        "print(g.ndata)\n",
        "print(\"Node feature\")\n",
        "print(g.edata)"
      ],
      "metadata": {
        "colab": {
          "base_uri": "https://localhost:8080/"
        },
        "id": "MlcbLFLIkStk",
        "outputId": "2334c8ef-f916-475d-9fd9-d0c4f67b1625"
      },
      "execution_count": 5,
      "outputs": [
        {
          "output_type": "stream",
          "name": "stdout",
          "text": [
            "Edge feature\n",
            "{'train_mask': tensor([ True,  True,  True,  ..., False, False, False]), 'val_mask': tensor([False, False, False,  ..., False, False, False]), 'test_mask': tensor([False, False, False,  ...,  True,  True,  True]), 'label': tensor([3, 4, 4,  ..., 3, 3, 3]), 'feat': tensor([[0., 0., 0.,  ..., 0., 0., 0.],\n",
            "        [0., 0., 0.,  ..., 0., 0., 0.],\n",
            "        [0., 0., 0.,  ..., 0., 0., 0.],\n",
            "        ...,\n",
            "        [0., 0., 0.,  ..., 0., 0., 0.],\n",
            "        [0., 0., 0.,  ..., 0., 0., 0.],\n",
            "        [0., 0., 0.,  ..., 0., 0., 0.]])}\n",
            "Node feature\n",
            "{}\n"
          ]
        }
      ]
    },
    {
      "cell_type": "markdown",
      "source": [
        "7- **Training the GCN**"
      ],
      "metadata": {
        "id": "9BGU6kiAniUK"
      }
    },
    {
      "cell_type": "code",
      "source": [
        "def train(g, model):\n",
        "  optimizer = torch.optim.Adam(model.parameters(), lr=0.01)\n",
        "  best_val_acc = 0\n",
        "  best_test_acc = 0\n",
        "\n",
        "  featurs = g.ndata[\"feat\"]\n",
        "  labels = g.ndata[\"label\"]\n",
        "  train_mask = g.ndata[\"train_mask\"]\n",
        "  val_mask = g.ndata[\"val_mask\"]\n",
        "  test_mask = g.ndata[\"test_mask\"]\n",
        "\n",
        "  for e in range(100):\n",
        "    logits = model(g, featurs)\n",
        "\n",
        "    # Compute prediction\n",
        "    pred = logits.argmax(1)\n",
        "\n",
        "    # Compute loss\n",
        "    loss = F.cross_entropy(logits[train_mask], labels[train_mask])\n",
        "\n",
        "    train_acc = (pred[train_mask] == labels[train_mask]).float().mean()\n",
        "    val_acc =   (pred[val_mask] == labels[val_mask]).float().mean()\n",
        "    test_acc =  (pred[test_mask] == labels[test_mask]).float().mean()\n",
        "\n",
        "    if best_val_acc < val_acc:\n",
        "      best_val_acc = val_acc\n",
        "      best_val_test = test_acc\n",
        "\n",
        "    optimizer.zero_grad()\n",
        "    loss.backward()\n",
        "    optimizer.step()\n",
        "\n",
        "    if e%5 == 0:\n",
        "      print(f\"In epoch {e}, loss:{loss:.3f}, val_acc:{val_acc:.3f} (best_val_acc {best_val_acc:.3f} , test_acc:{test_acc:.3f}) best_test_acc { best_val_test:.3f}\")\n",
        "\n",
        "model = GCN(g.ndata[\"feat\"].shape[1], 16, dataset.num_classes)\n",
        "train(g, model)"
      ],
      "metadata": {
        "colab": {
          "base_uri": "https://localhost:8080/"
        },
        "id": "zTJf2_N-kgYs",
        "outputId": "9be79f9e-5e94-4a41-db0b-7cc281a51b71"
      },
      "execution_count": 10,
      "outputs": [
        {
          "output_type": "stream",
          "name": "stdout",
          "text": [
            "In epoch 0, loss:1.946, val_acc:0.208 (best_val_acc 0.208 , test_acc:0.217) best_test_acc 0.217\n",
            "In epoch 5, loss:1.887, val_acc:0.526 (best_val_acc 0.552 , test_acc:0.536) best_test_acc 0.551\n",
            "In epoch 10, loss:1.800, val_acc:0.596 (best_val_acc 0.596 , test_acc:0.594) best_test_acc 0.594\n",
            "In epoch 15, loss:1.688, val_acc:0.652 (best_val_acc 0.652 , test_acc:0.646) best_test_acc 0.646\n",
            "In epoch 20, loss:1.555, val_acc:0.700 (best_val_acc 0.700 , test_acc:0.685) best_test_acc 0.685\n",
            "In epoch 25, loss:1.403, val_acc:0.714 (best_val_acc 0.714 , test_acc:0.702) best_test_acc 0.702\n",
            "In epoch 30, loss:1.237, val_acc:0.718 (best_val_acc 0.720 , test_acc:0.721) best_test_acc 0.717\n",
            "In epoch 35, loss:1.067, val_acc:0.732 (best_val_acc 0.732 , test_acc:0.733) best_test_acc 0.733\n",
            "In epoch 40, loss:0.901, val_acc:0.732 (best_val_acc 0.734 , test_acc:0.741) best_test_acc 0.737\n",
            "In epoch 45, loss:0.747, val_acc:0.744 (best_val_acc 0.744 , test_acc:0.752) best_test_acc 0.749\n",
            "In epoch 50, loss:0.611, val_acc:0.746 (best_val_acc 0.748 , test_acc:0.754) best_test_acc 0.755\n",
            "In epoch 55, loss:0.496, val_acc:0.752 (best_val_acc 0.752 , test_acc:0.760) best_test_acc 0.757\n",
            "In epoch 60, loss:0.402, val_acc:0.760 (best_val_acc 0.760 , test_acc:0.760) best_test_acc 0.759\n",
            "In epoch 65, loss:0.327, val_acc:0.760 (best_val_acc 0.762 , test_acc:0.763) best_test_acc 0.762\n",
            "In epoch 70, loss:0.268, val_acc:0.762 (best_val_acc 0.762 , test_acc:0.763) best_test_acc 0.762\n",
            "In epoch 75, loss:0.221, val_acc:0.768 (best_val_acc 0.770 , test_acc:0.766) best_test_acc 0.765\n",
            "In epoch 80, loss:0.184, val_acc:0.770 (best_val_acc 0.770 , test_acc:0.767) best_test_acc 0.765\n",
            "In epoch 85, loss:0.155, val_acc:0.766 (best_val_acc 0.770 , test_acc:0.765) best_test_acc 0.765\n",
            "In epoch 90, loss:0.131, val_acc:0.764 (best_val_acc 0.770 , test_acc:0.764) best_test_acc 0.765\n",
            "In epoch 95, loss:0.112, val_acc:0.762 (best_val_acc 0.770 , test_acc:0.764) best_test_acc 0.765\n"
          ]
        }
      ]
    }
  ]
}