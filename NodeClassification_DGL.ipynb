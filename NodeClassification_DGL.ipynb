{
  "nbformat": 4,
  "nbformat_minor": 0,
  "metadata": {
    "colab": {
      "provenance": [],
      "authorship_tag": "ABX9TyNkTiHRTfdLYNHTF01A+CPa",
      "include_colab_link": true
    },
    "kernelspec": {
      "name": "python3",
      "display_name": "Python 3"
    },
    "language_info": {
      "name": "python"
    }
  },
  "cells": [
    {
      "cell_type": "markdown",
      "metadata": {
        "id": "view-in-github",
        "colab_type": "text"
      },
      "source": [
        "<a href=\"https://colab.research.google.com/github/mohammadRahimi1993/Exercise/blob/main/NodeClassification_DGL.ipynb\" target=\"_parent\"><img src=\"https://colab.research.google.com/assets/colab-badge.svg\" alt=\"Open In Colab\"/></a>"
      ]
    },
    {
      "cell_type": "markdown",
      "source": [
        "# **Node Classification with DGL**"
      ],
      "metadata": {
        "id": "jqNouURclp55"
      }
    },
    {
      "cell_type": "markdown",
      "source": [
        "1- **Install DGL And Torch**"
      ],
      "metadata": {
        "id": "e5r8dbcJmn3J"
      }
    },
    {
      "cell_type": "code",
      "execution_count": 1,
      "metadata": {
        "id": "9b_Db7NPjVHT"
      },
      "outputs": [],
      "source": [
        "# https://colab.research.google.com/github/dmlc/dgl/blob/master/notebooks/sparse/quickstart.ipynb#scrollTo=19UZd7wyWzpT\n",
        "!pip install torch==2.0.0+cpu torchvision==0.15.1+cpu torchaudio==2.0.1 --index-url https://download.pytorch.org/whl/cpu > /dev/null\n",
        "!pip install dgl==1.1.0 -f https://data.dgl.ai/wheels/repo.html > /dev/null"
      ]
    },
    {
      "cell_type": "markdown",
      "source": [
        "2- **Check dgl and torch**"
      ],
      "metadata": {
        "id": "UDRxJpI8m16t"
      }
    },
    {
      "cell_type": "code",
      "source": [
        "import os\n",
        "import torch\n",
        "\n",
        "os.environ[\"TORCH\"] = torch.__version__\n",
        "os.environ[\"DGLBACKEND\"] = \"pytorch\"\n",
        "\n",
        "try:\n",
        "  import dgl.sparse as dglsp\n",
        "  installed = True\n",
        "except ImportError:\n",
        "  installed = False\n",
        "\n",
        "print(\"installed\" if installed else \"not installed!\")"
      ],
      "metadata": {
        "colab": {
          "base_uri": "https://localhost:8080/"
        },
        "id": "G-CX6KNKkDso",
        "outputId": "6730b72c-6ec5-4277-b267-4d7524cf482b"
      },
      "execution_count": 2,
      "outputs": [
        {
          "output_type": "stream",
          "name": "stdout",
          "text": [
            "installed\n"
          ]
        }
      ]
    },
    {
      "cell_type": "markdown",
      "source": [
        "3- **Import library**"
      ],
      "metadata": {
        "id": "boDbEYT9nIkj"
      }
    },
    {
      "cell_type": "code",
      "source": [
        "import torch\n",
        "import dgl\n",
        "import dgl.data\n",
        "import torch\n",
        "import torch.nn as nn\n",
        "import torch.nn.functional as F"
      ],
      "metadata": {
        "id": "ZebvDUMCkIIZ"
      },
      "execution_count": 3,
      "outputs": []
    },
    {
      "cell_type": "markdown",
      "source": [
        "4- **Download CoraGraphDataset**"
      ],
      "metadata": {
        "id": "8o_isLlPnPOF"
      }
    },
    {
      "cell_type": "code",
      "source": [
        "dataset = dgl.data.CoraGraphDataset()\n",
        "print(f\"Number of Categories: {dataset.num_classes}\")\n",
        "print(f\"Number of Labels: {dataset.num_labels}\")"
      ],
      "metadata": {
        "colab": {
          "base_uri": "https://localhost:8080/"
        },
        "id": "TEUOnRYWkOzt",
        "outputId": "f43c3077-fa8f-42b7-d66d-25ef931d2bf9"
      },
      "execution_count": 4,
      "outputs": [
        {
          "output_type": "stream",
          "name": "stdout",
          "text": [
            "Downloading /root/.dgl/cora_v2.zip from https://data.dgl.ai/dataset/cora_v2.zip...\n",
            "Extracting file to /root/.dgl/cora_v2_d697a464\n",
            "Finished data loading and preprocessing.\n",
            "  NumNodes: 2708\n",
            "  NumEdges: 10556\n",
            "  NumFeats: 1433\n",
            "  NumClasses: 7\n",
            "  NumTrainingSamples: 140\n",
            "  NumValidationSamples: 500\n",
            "  NumTestSamples: 1000\n",
            "Done saving data into cached files.\n",
            "Number of Categories: 7\n",
            "Number of Labels: 7\n"
          ]
        },
        {
          "output_type": "stream",
          "name": "stderr",
          "text": [
            "/usr/local/lib/python3.11/dist-packages/dgl/data/utils.py:354: UserWarning: Property dataset.num_labels will be deprecated, please use dataset.num_classes instead.\n",
            "  warnings.warn(\n"
          ]
        }
      ]
    },
    {
      "cell_type": "markdown",
      "source": [
        "6- **Defining a Graph Convolutional Network (GCN)**"
      ],
      "metadata": {
        "id": "bvpJZhignYkA"
      }
    },
    {
      "cell_type": "code",
      "source": [
        "from dgl.nn import GraphConv\n",
        "\n",
        "class GCN(nn.Module):\n",
        "  def __init__(self , in_feats, h_feats, num_classes ):\n",
        "    super(GCN, self).__init__()\n",
        "    self.conv1 = GraphConv(in_feats, h_feats)\n",
        "    self.conv2 = GraphConv(h_feats, num_classes)\n",
        "\n",
        "  def forward(self, g, in_feat):\n",
        "    h = self.conv1(g, in_feat)\n",
        "    h = F.relu(h)\n",
        "    h = self.conv2(g, h)\n",
        "    return h"
      ],
      "metadata": {
        "id": "7OGEqdZskY9l"
      },
      "execution_count": 7,
      "outputs": []
    },
    {
      "cell_type": "code",
      "source": [
        "g = dataset[0]\n",
        "\n",
        "print(\"Edge feature\")\n",
        "print(g.ndata)\n",
        "print(\"Node feature\")\n",
        "print(g.edata)"
      ],
      "metadata": {
        "colab": {
          "base_uri": "https://localhost:8080/"
        },
        "id": "MlcbLFLIkStk",
        "outputId": "80f8429d-9d46-4561-8307-254bbb9c1729"
      },
      "execution_count": 8,
      "outputs": [
        {
          "output_type": "stream",
          "name": "stdout",
          "text": [
            "Edge feature\n",
            "{'train_mask': tensor([ True,  True,  True,  ..., False, False, False]), 'val_mask': tensor([False, False, False,  ..., False, False, False]), 'test_mask': tensor([False, False, False,  ...,  True,  True,  True]), 'label': tensor([3, 4, 4,  ..., 3, 3, 3]), 'feat': tensor([[0., 0., 0.,  ..., 0., 0., 0.],\n",
            "        [0., 0., 0.,  ..., 0., 0., 0.],\n",
            "        [0., 0., 0.,  ..., 0., 0., 0.],\n",
            "        ...,\n",
            "        [0., 0., 0.,  ..., 0., 0., 0.],\n",
            "        [0., 0., 0.,  ..., 0., 0., 0.],\n",
            "        [0., 0., 0.,  ..., 0., 0., 0.]])}\n",
            "Node feature\n",
            "{}\n"
          ]
        }
      ]
    },
    {
      "cell_type": "markdown",
      "source": [
        "7- **Training the GCN**"
      ],
      "metadata": {
        "id": "9BGU6kiAniUK"
      }
    },
    {
      "cell_type": "code",
      "source": [
        "def train(g, model):\n",
        "  optimizer = torch.optim.Adam(model.parameters(), lr=0.01)\n",
        "  best_val_acc = 0\n",
        "  best_test_acc = 0\n",
        "\n",
        "  featurs = g.ndata[\"feat\"]\n",
        "  labels = g.ndata[\"label\"]\n",
        "  train_mask = g.ndata[\"train_mask\"]\n",
        "  val_mask = g.ndata[\"val_mask\"]\n",
        "  test_mask = g.ndata[\"test_mask\"]\n",
        "\n",
        "  for e in range(100):\n",
        "    logits = model(g, featurs)\n",
        "\n",
        "    # Compute prediction\n",
        "    pred = logits.argmax(1)\n",
        "\n",
        "    # Compute loss\n",
        "    loss = F.cross_entropy(logits[train_mask], labels[train_mask])\n",
        "\n",
        "    train_acc = (pred[train_mask] == labels[train_mask]).float().mean()\n",
        "    val_acc =   (pred[val_mask] == labels[val_mask]).float().mean()\n",
        "    test_acc =  (pred[test_mask] == labels[test_mask]).float().mean()\n",
        "\n",
        "    if best_val_acc < val_acc:\n",
        "      best_val_acc = val_acc\n",
        "      best_val_test = test_acc\n",
        "\n",
        "    optimizer.zero_grad()\n",
        "    loss.backward()\n",
        "    optimizer.step()\n",
        "\n",
        "    if e%5 == 0:\n",
        "      print(f\"In epoch {e}, loss:{loss:.3f}, val_acc:{val_acc:.3f} (best_val_acc {best_val_acc:.3f} , test_acc:{test_acc:.3f}) best_test_acc { best_val_test:.3f}\")\n",
        "\n",
        "model = GCN(g.ndata[\"feat\"].shape[1], 16, dataset.num_classes)\n",
        "train(g, model)"
      ],
      "metadata": {
        "colab": {
          "base_uri": "https://localhost:8080/"
        },
        "id": "zTJf2_N-kgYs",
        "outputId": "d5c0f10c-2070-45b4-9963-603d343bbd20"
      },
      "execution_count": 9,
      "outputs": [
        {
          "output_type": "stream",
          "name": "stderr",
          "text": [
            "/usr/local/lib/python3.11/dist-packages/dgl/backend/pytorch/tensor.py:449: UserWarning: TypedStorage is deprecated. It will be removed in the future and UntypedStorage will be the only storage class. This should only matter to you if you are using storages directly.  To access UntypedStorage directly, use tensor.untyped_storage() instead of tensor.storage()\n",
            "  assert input.numel() == input.storage().size(), (\n"
          ]
        },
        {
          "output_type": "stream",
          "name": "stdout",
          "text": [
            "In epoch 0, loss:1.946, val_acc:0.130 (best_val_acc 0.130 , test_acc:0.124) best_test_acc 0.124\n",
            "In epoch 5, loss:1.895, val_acc:0.422 (best_val_acc 0.422 , test_acc:0.445) best_test_acc 0.445\n",
            "In epoch 10, loss:1.814, val_acc:0.394 (best_val_acc 0.448 , test_acc:0.439) best_test_acc 0.476\n",
            "In epoch 15, loss:1.711, val_acc:0.498 (best_val_acc 0.498 , test_acc:0.524) best_test_acc 0.524\n",
            "In epoch 20, loss:1.586, val_acc:0.618 (best_val_acc 0.618 , test_acc:0.615) best_test_acc 0.615\n",
            "In epoch 25, loss:1.440, val_acc:0.668 (best_val_acc 0.668 , test_acc:0.665) best_test_acc 0.665\n",
            "In epoch 30, loss:1.280, val_acc:0.690 (best_val_acc 0.690 , test_acc:0.707) best_test_acc 0.707\n",
            "In epoch 35, loss:1.112, val_acc:0.708 (best_val_acc 0.708 , test_acc:0.740) best_test_acc 0.740\n",
            "In epoch 40, loss:0.944, val_acc:0.732 (best_val_acc 0.732 , test_acc:0.751) best_test_acc 0.749\n",
            "In epoch 45, loss:0.784, val_acc:0.742 (best_val_acc 0.742 , test_acc:0.767) best_test_acc 0.767\n",
            "In epoch 50, loss:0.640, val_acc:0.750 (best_val_acc 0.750 , test_acc:0.769) best_test_acc 0.769\n",
            "In epoch 55, loss:0.516, val_acc:0.762 (best_val_acc 0.762 , test_acc:0.776) best_test_acc 0.776\n",
            "In epoch 60, loss:0.414, val_acc:0.776 (best_val_acc 0.776 , test_acc:0.781) best_test_acc 0.781\n",
            "In epoch 65, loss:0.332, val_acc:0.770 (best_val_acc 0.776 , test_acc:0.784) best_test_acc 0.781\n",
            "In epoch 70, loss:0.267, val_acc:0.772 (best_val_acc 0.776 , test_acc:0.789) best_test_acc 0.781\n",
            "In epoch 75, loss:0.216, val_acc:0.768 (best_val_acc 0.776 , test_acc:0.793) best_test_acc 0.781\n",
            "In epoch 80, loss:0.177, val_acc:0.768 (best_val_acc 0.776 , test_acc:0.791) best_test_acc 0.781\n",
            "In epoch 85, loss:0.146, val_acc:0.772 (best_val_acc 0.776 , test_acc:0.787) best_test_acc 0.781\n",
            "In epoch 90, loss:0.122, val_acc:0.778 (best_val_acc 0.778 , test_acc:0.782) best_test_acc 0.782\n",
            "In epoch 95, loss:0.104, val_acc:0.784 (best_val_acc 0.784 , test_acc:0.781) best_test_acc 0.782\n"
          ]
        }
      ]
    }
  ]
}